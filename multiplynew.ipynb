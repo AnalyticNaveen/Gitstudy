{
 "cells": [
  {
   "cell_type": "code",
   "execution_count": 1,
   "metadata": {},
   "outputs": [
    {
     "name": "stdout",
     "output_type": "stream",
     "text": [
      "1927.8000000000002\n"
     ]
    }
   ],
   "source": [
    "num1 = 34\n",
    "num2 = 56.7\n",
    "num3 = num1 *num2\n",
    "print(num3)"
   ]
  }
 ],
 "metadata": {
  "interpreter": {
   "hash": "fa72bd4b47abff93eacf3669c103e5b682041c35b3899c2473a2ab3a6267fb38"
  },
  "kernelspec": {
   "display_name": "Python 3.9.0 64-bit",
   "language": "python",
   "name": "python3"
  },
  "language_info": {
   "codemirror_mode": {
    "name": "ipython",
    "version": 3
   },
   "file_extension": ".py",
   "mimetype": "text/x-python",
   "name": "python",
   "nbconvert_exporter": "python",
   "pygments_lexer": "ipython3",
   "version": "3.9.0"
  },
  "orig_nbformat": 4
 },
 "nbformat": 4,
 "nbformat_minor": 2
}
